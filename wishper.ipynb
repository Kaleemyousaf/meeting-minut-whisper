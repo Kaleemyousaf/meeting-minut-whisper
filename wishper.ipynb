# Install necessary libraries (uncomment if not already installed)
!pip install streamlit whisper python-docx
!pip show openai-whisper
!pip install -U openai-whisper
!apt-get install portaudio19-dev python3-pyaudio
!pip install gradio
!pip install --upgrade gradio
!pip install python-docx


import streamlit as st
import whisper
from docx import Document
from datetime import datetime

# Initialize the Whisper model
model=whisper.load_model("medium")

# Initialize a list to hold pre-added members and their transcriptions
members = []
transcriptions = []  # To maintain order of member transcriptions

# Function to transcribe audio
def transcribe_audio(selected_members, audio_file):
    if not selected_members:
        st.warning("No member selected.")
        return None

    if not audio_file:
        st.warning("No audio file provided.")
        return None

    # Load and process the audio
    audio_data = whisper.load_audio(audio_file)
    result = model.transcribe(audio_data)
    
    transcription = result["text"]
    for member in selected_members:
        transcriptions.append((member, transcription))

    return f"Transcription for {', '.join(selected_members)}: {transcription}"

# Function to display meeting minutes
def display_minutes(meeting_title, date, venue, requested_by, agenda, action_items, next_meeting, additional_notes):
    minutes = f"{meeting_title}\n\n"
    minutes += f"Date and Time: {date}\n"
    minutes += f"Venue: {venue}\n"
    minutes += f"Requested by: {requested_by}\n\n"
    minutes += "Meeting Attendees:\n"
    for member in members:
        minutes += f"  - {member}\n"
    minutes += "\nAgenda:\n"
    minutes += f"{agenda}\n\n"
    minutes += "Discussion:\n"
    for member, transcription in transcriptions:
        minutes += f"  - {member}: {transcription}\n"
    minutes += "\nAction Items:\n"
    minutes += f"{action_items}\n\n"
    minutes += "Next Meeting:\n"
    minutes += f"{next_meeting}\n\n"
    minutes += "Additional Notes:\n"
    minutes += f"{additional_notes}\n\n"
    return minutes

# Function to save meeting minutes as a Word document
def save_minutes_as_docx(minutes, file_name="Meeting_Minutes.docx"):
    doc = Document()
    doc.add_heading("Meeting Minutes", 0)

    for line in minutes.split("\n"):
        if line.strip() == "":
            doc.add_paragraph()
        else:
            doc.add_paragraph(line)

    doc.save(file_name)
    return file_name

# Streamlit Interface
st.title("Meeting Minutes Transcription")

# Meeting Details
meeting_title = st.text_input("Meeting Title", placeholder="Enter the meeting title...")
date = st.date_input("Select Meeting Date", datetime.now())
venue = st.text_input("Venue", placeholder="Enter the venue...")
requested_by = st.text_input("Requested by", placeholder="Enter the name of the person who requested the meeting...")

# Member Selection and Audio Upload
new_member = st.text_input("Add New Member")
if st.button("Add Member"):
    if new_member and new_member not in members:
        members.append(new_member)

# Display members and audio file uploader
selected_members = st.multiselect("Select Members", members)
audio_file = st.file_uploader("Upload Member's Audio", type=["wav", "mp3"])

# Agenda and Additional Details
agenda = st.text_area("Agenda", placeholder="List the agenda points here...")
action_items = st.text_area("Action Items", placeholder="List the action items here...")
next_meeting = st.text_area("Next Meeting", placeholder="Details for the next meeting...")
additional_notes = st.text_area("Additional Notes", placeholder="Any additional notes...")

# Transcribe and Display Minutes
if st.button("Transcribe"):
    transcription_result = transcribe_audio(selected_members, audio_file)
    if transcription_result:
        st.text_area("Transcription Result", transcription_result, height=100)

if st.button("Display Meeting Minutes"):
    minutes = display_minutes(meeting_title, date, venue, requested_by, agenda, action_items, next_meeting, additional_notes)
    st.text_area("Meeting Minutes", minutes, height=400)

# Save and Download the Meeting Minutes Document
if st.button("Save Meeting Minutes as Word Document"):
    minutes = display_minutes(meeting_title, date, venue, requested_by, agenda, action_items, next_meeting, additional_notes)
    file_name = save_minutes_as_docx(minutes)
    with open(file_name, "rb") as file:
        st.download_button(label="Download Meeting Minutes", data=file, file_name=file_name, mime="application/vnd.openxmlformats-officedocument.wordprocessingml.document")
